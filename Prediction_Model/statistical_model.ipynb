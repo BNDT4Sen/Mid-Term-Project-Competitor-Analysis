{
 "cells": [
  {
   "cell_type": "code",
   "execution_count": 3,
   "id": "e84065dd-d51b-42c6-958e-d568dcfbe5bc",
   "metadata": {
    "tags": []
   },
   "outputs": [],
   "source": [
    "import pandas as pd\n",
    "import numpy as np\n",
    "import statsmodels.api as sm"
   ]
  },
  {
   "cell_type": "code",
   "execution_count": 7,
   "id": "4b56d643-5cb0-4354-8dbf-2a40c2d6ba37",
   "metadata": {
    "tags": []
   },
   "outputs": [],
   "source": [
    "# Load the data into a Pandas DataFrame\n",
    "data = pd.read_csv(\"../API_Data/cleaned_venues.csv\") "
   ]
  },
  {
   "cell_type": "code",
   "execution_count": 10,
   "id": "8471ecf9-87ef-46a1-b07d-cc5996737b1d",
   "metadata": {
    "tags": []
   },
   "outputs": [
    {
     "name": "stdout",
     "output_type": "stream",
     "text": [
      "                            OLS Regression Results                            \n",
      "==============================================================================\n",
      "Dep. Variable:         Average Rating   R-squared:                       0.081\n",
      "Model:                            OLS   Adj. R-squared:                  0.080\n",
      "Method:                 Least Squares   F-statistic:                     57.58\n",
      "Date:                Thu, 13 Jul 2023   Prob (F-statistic):           1.09e-24\n",
      "Time:                        13:34:00   Log-Likelihood:                -1994.9\n",
      "No. Observations:                1303   AIC:                             3996.\n",
      "Df Residuals:                    1300   BIC:                             4011.\n",
      "Df Model:                           2                                         \n",
      "Covariance Type:            nonrobust                                         \n",
      "================================================================================\n",
      "                   coef    std err          t      P>|t|      [0.025      0.975]\n",
      "--------------------------------------------------------------------------------\n",
      "const            3.3492      0.043     78.464      0.000       3.266       3.433\n",
      "Review Count     0.0004    4.6e-05      9.336      0.000       0.000       0.001\n",
      "Distance         0.0002   4.81e-05      3.853      0.000     9.1e-05       0.000\n",
      "==============================================================================\n",
      "Omnibus:                      429.291   Durbin-Watson:                   1.960\n",
      "Prob(Omnibus):                  0.000   Jarque-Bera (JB):             1129.464\n",
      "Skew:                          -1.752   Prob(JB):                    5.49e-246\n",
      "Kurtosis:                       5.919   Cond. No.                     1.34e+03\n",
      "==============================================================================\n",
      "\n",
      "Notes:\n",
      "[1] Standard Errors assume that the covariance matrix of the errors is correctly specified.\n",
      "[2] The condition number is large, 1.34e+03. This might indicate that there are\n",
      "strong multicollinearity or other numerical problems.\n"
     ]
    }
   ],
   "source": [
    "# Select the relevant features for the regression model\n",
    "features = ['Review Count', 'Distance']\n",
    "target = 'Average Rating'\n",
    "\n",
    "# Add a constant column to the features\n",
    "X = sm.add_constant(data[features])\n",
    "\n",
    "# Create the target variable\n",
    "y = data[target]\n",
    "\n",
    "# Fit the linear regression model\n",
    "model = sm.OLS(y, X)\n",
    "results = model.fit()\n",
    "\n",
    "# Print the regression summary\n",
    "print(results.summary())"
   ]
  },
  {
   "cell_type": "code",
   "execution_count": null,
   "id": "703243ea-d580-409f-a61f-d550dc57a974",
   "metadata": {},
   "outputs": [],
   "source": []
  }
 ],
 "metadata": {
  "kernelspec": {
   "display_name": "Python 3 (ipykernel)",
   "language": "python",
   "name": "python3"
  },
  "language_info": {
   "codemirror_mode": {
    "name": "ipython",
    "version": 3
   },
   "file_extension": ".py",
   "mimetype": "text/x-python",
   "name": "python",
   "nbconvert_exporter": "python",
   "pygments_lexer": "ipython3",
   "version": "3.11.3"
  }
 },
 "nbformat": 4,
 "nbformat_minor": 5
}
