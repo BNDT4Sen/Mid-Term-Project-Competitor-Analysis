{
 "cells": [
  {
   "cell_type": "code",
   "execution_count": 2,
   "id": "df4ecdfc-7b0d-4020-9274-be313baa9f9f",
   "metadata": {
    "tags": []
   },
   "outputs": [],
   "source": [
    "import pandas as pd"
   ]
  },
  {
   "cell_type": "code",
   "execution_count": 3,
   "id": "34a78368-9cd2-4cea-88cb-4377ce17b567",
   "metadata": {
    "collapsed": true,
    "jupyter": {
     "outputs_hidden": true
    },
    "tags": []
   },
   "outputs": [],
   "source": [
    "\n",
    "# Read the Google venue data from CSV\n",
    "google_venues = pd.read_csv('google_pre_merge.csv')\n",
    "\n",
    "# Read the Yelp venue data from CSV\n",
    "yelp_venues = pd.read_csv('yelp_pre_merge.csv')"
   ]
  },
  {
   "cell_type": "code",
   "execution_count": 5,
   "id": "13900896-6381-4a6b-bee7-26f4be132582",
   "metadata": {
    "tags": []
   },
   "outputs": [
    {
     "data": {
      "text/html": [
       "<div>\n",
       "<style scoped>\n",
       "    .dataframe tbody tr th:only-of-type {\n",
       "        vertical-align: middle;\n",
       "    }\n",
       "\n",
       "    .dataframe tbody tr th {\n",
       "        vertical-align: top;\n",
       "    }\n",
       "\n",
       "    .dataframe thead th {\n",
       "        text-align: right;\n",
       "    }\n",
       "</style>\n",
       "<table border=\"1\" class=\"dataframe\">\n",
       "  <thead>\n",
       "    <tr style=\"text-align: right;\">\n",
       "      <th></th>\n",
       "      <th>Venue Name</th>\n",
       "      <th>Average Rating</th>\n",
       "      <th>Review Count</th>\n",
       "      <th>SkyTrain Station</th>\n",
       "      <th>Latitude</th>\n",
       "      <th>Longitude</th>\n",
       "      <th>ID</th>\n",
       "      <th>Source</th>\n",
       "      <th>Distance</th>\n",
       "    </tr>\n",
       "  </thead>\n",
       "  <tbody>\n",
       "    <tr>\n",
       "      <th>0</th>\n",
       "      <td>A&amp;W Canada</td>\n",
       "      <td>3.7</td>\n",
       "      <td>569</td>\n",
       "      <td>Main Street-Science World</td>\n",
       "      <td>49.273120</td>\n",
       "      <td>-123.100480</td>\n",
       "      <td>ChIJZ7GEH2RxhlQRVOFg4REEFN0</td>\n",
       "      <td>Google</td>\n",
       "      <td>11.062798</td>\n",
       "    </tr>\n",
       "    <tr>\n",
       "      <th>1</th>\n",
       "      <td>A&amp;W Canada</td>\n",
       "      <td>3.8</td>\n",
       "      <td>765</td>\n",
       "      <td>Commercial-Broadway Station</td>\n",
       "      <td>49.262566</td>\n",
       "      <td>-123.069420</td>\n",
       "      <td>ChIJvWqz0E5xhlQRmQ0QSFzd-OI</td>\n",
       "      <td>Google</td>\n",
       "      <td>14.740644</td>\n",
       "    </tr>\n",
       "    <tr>\n",
       "      <th>2</th>\n",
       "      <td>Tim Hortons</td>\n",
       "      <td>3.2</td>\n",
       "      <td>138</td>\n",
       "      <td>Main Street-Science World</td>\n",
       "      <td>49.273150</td>\n",
       "      <td>-123.100556</td>\n",
       "      <td>ChIJydBOH2RxhlQRNt7Hp4vijHE</td>\n",
       "      <td>Google</td>\n",
       "      <td>15.113673</td>\n",
       "    </tr>\n",
       "    <tr>\n",
       "      <th>3</th>\n",
       "      <td>St Regis Bar &amp; Grill</td>\n",
       "      <td>4.1</td>\n",
       "      <td>672</td>\n",
       "      <td>Granville</td>\n",
       "      <td>49.283169</td>\n",
       "      <td>-123.115932</td>\n",
       "      <td>ChIJAWJHy3hxhlQRxAZ-J4oMWJA</td>\n",
       "      <td>Google</td>\n",
       "      <td>20.001128</td>\n",
       "    </tr>\n",
       "    <tr>\n",
       "      <th>4</th>\n",
       "      <td>The Keg Steakhouse + Bar - Dunsmuir</td>\n",
       "      <td>4.4</td>\n",
       "      <td>2288</td>\n",
       "      <td>Granville</td>\n",
       "      <td>49.283445</td>\n",
       "      <td>-123.116359</td>\n",
       "      <td>ChIJGdCptHhxhlQR5OKcIP64od4</td>\n",
       "      <td>Google</td>\n",
       "      <td>23.592278</td>\n",
       "    </tr>\n",
       "    <tr>\n",
       "      <th>...</th>\n",
       "      <td>...</td>\n",
       "      <td>...</td>\n",
       "      <td>...</td>\n",
       "      <td>...</td>\n",
       "      <td>...</td>\n",
       "      <td>...</td>\n",
       "      <td>...</td>\n",
       "      <td>...</td>\n",
       "      <td>...</td>\n",
       "    </tr>\n",
       "    <tr>\n",
       "      <th>1391</th>\n",
       "      <td>Sushi Street</td>\n",
       "      <td>5.0</td>\n",
       "      <td>4</td>\n",
       "      <td>King George</td>\n",
       "      <td>49.190440</td>\n",
       "      <td>-122.850100</td>\n",
       "      <td>9XbqS8TN_GqMWjshzHev0A</td>\n",
       "      <td>Yelp</td>\n",
       "      <td>933.788753</td>\n",
       "    </tr>\n",
       "    <tr>\n",
       "      <th>1392</th>\n",
       "      <td>Church's Texas Chicken</td>\n",
       "      <td>2.5</td>\n",
       "      <td>3</td>\n",
       "      <td>Sea Island Centre</td>\n",
       "      <td>49.194544</td>\n",
       "      <td>-123.174736</td>\n",
       "      <td>E2ce43D0uCJ33rca3fTBZA</td>\n",
       "      <td>Yelp</td>\n",
       "      <td>1235.408371</td>\n",
       "    </tr>\n",
       "    <tr>\n",
       "      <th>1393</th>\n",
       "      <td>Bento Sushi</td>\n",
       "      <td>1.0</td>\n",
       "      <td>1</td>\n",
       "      <td>Marine Drive Station</td>\n",
       "      <td>49.210615</td>\n",
       "      <td>-123.099390</td>\n",
       "      <td>vVFZnByFBtWZcjtglVwnrQ</td>\n",
       "      <td>Yelp</td>\n",
       "      <td>1284.987479</td>\n",
       "    </tr>\n",
       "    <tr>\n",
       "      <th>1394</th>\n",
       "      <td>Finch &amp; Barley</td>\n",
       "      <td>4.0</td>\n",
       "      <td>60</td>\n",
       "      <td>Main Street-Science World</td>\n",
       "      <td>49.309920</td>\n",
       "      <td>-123.073460</td>\n",
       "      <td>R9R61_IpsCNJgRwpy_x7YA</td>\n",
       "      <td>Yelp</td>\n",
       "      <td>4527.694594</td>\n",
       "    </tr>\n",
       "    <tr>\n",
       "      <th>1395</th>\n",
       "      <td>Red Door</td>\n",
       "      <td>2.5</td>\n",
       "      <td>2</td>\n",
       "      <td>Main Street-Science World</td>\n",
       "      <td>49.325315</td>\n",
       "      <td>-123.142591</td>\n",
       "      <td>uF_xSsjb-9mbRhFznj5dDw</td>\n",
       "      <td>Yelp</td>\n",
       "      <td>6557.366515</td>\n",
       "    </tr>\n",
       "  </tbody>\n",
       "</table>\n",
       "<p>1396 rows × 9 columns</p>\n",
       "</div>"
      ],
      "text/plain": [
       "                               Venue Name  Average Rating  Review Count  \\\n",
       "0                              A&W Canada             3.7           569   \n",
       "1                              A&W Canada             3.8           765   \n",
       "2                             Tim Hortons             3.2           138   \n",
       "3                    St Regis Bar & Grill             4.1           672   \n",
       "4     The Keg Steakhouse + Bar - Dunsmuir             4.4          2288   \n",
       "...                                   ...             ...           ...   \n",
       "1391                         Sushi Street             5.0             4   \n",
       "1392               Church's Texas Chicken             2.5             3   \n",
       "1393                          Bento Sushi             1.0             1   \n",
       "1394                       Finch & Barley             4.0            60   \n",
       "1395                             Red Door             2.5             2   \n",
       "\n",
       "                 SkyTrain Station   Latitude   Longitude  \\\n",
       "0       Main Street-Science World  49.273120 -123.100480   \n",
       "1     Commercial-Broadway Station  49.262566 -123.069420   \n",
       "2       Main Street-Science World  49.273150 -123.100556   \n",
       "3                       Granville  49.283169 -123.115932   \n",
       "4                       Granville  49.283445 -123.116359   \n",
       "...                           ...        ...         ...   \n",
       "1391                  King George  49.190440 -122.850100   \n",
       "1392            Sea Island Centre  49.194544 -123.174736   \n",
       "1393         Marine Drive Station  49.210615 -123.099390   \n",
       "1394    Main Street-Science World  49.309920 -123.073460   \n",
       "1395    Main Street-Science World  49.325315 -123.142591   \n",
       "\n",
       "                               ID  Source     Distance  \n",
       "0     ChIJZ7GEH2RxhlQRVOFg4REEFN0  Google    11.062798  \n",
       "1     ChIJvWqz0E5xhlQRmQ0QSFzd-OI  Google    14.740644  \n",
       "2     ChIJydBOH2RxhlQRNt7Hp4vijHE  Google    15.113673  \n",
       "3     ChIJAWJHy3hxhlQRxAZ-J4oMWJA  Google    20.001128  \n",
       "4     ChIJGdCptHhxhlQR5OKcIP64od4  Google    23.592278  \n",
       "...                           ...     ...          ...  \n",
       "1391       9XbqS8TN_GqMWjshzHev0A    Yelp   933.788753  \n",
       "1392       E2ce43D0uCJ33rca3fTBZA    Yelp  1235.408371  \n",
       "1393       vVFZnByFBtWZcjtglVwnrQ    Yelp  1284.987479  \n",
       "1394       R9R61_IpsCNJgRwpy_x7YA    Yelp  4527.694594  \n",
       "1395       uF_xSsjb-9mbRhFznj5dDw    Yelp  6557.366515  \n",
       "\n",
       "[1396 rows x 9 columns]"
      ]
     },
     "execution_count": 5,
     "metadata": {},
     "output_type": "execute_result"
    }
   ],
   "source": [
    "# Grouping the DataFrames together and concatenating them. This helps to keep things a bit cleaner compared to merging.\n",
    "venue_sources = [google_venues, yelp_venues]\n",
    "combined_venues = pd.concat(objs = venue_sources, ignore_index = True)\n",
    "combined_venues"
   ]
  },
  {
   "cell_type": "code",
   "execution_count": 6,
   "id": "e1b8c891-abec-45fa-8c21-0c57b0791ff2",
   "metadata": {
    "tags": []
   },
   "outputs": [],
   "source": [
    "# View null values in each column\n",
    "null_values = combined_venues.isnull().sum()"
   ]
  },
  {
   "cell_type": "code",
   "execution_count": 7,
   "id": "c4c5699d-6817-49c8-91f7-2039a3231351",
   "metadata": {
    "tags": []
   },
   "outputs": [
    {
     "data": {
      "text/plain": [
       "Venue Name          0\n",
       "Average Rating      0\n",
       "Review Count        0\n",
       "SkyTrain Station    0\n",
       "Latitude            0\n",
       "Longitude           0\n",
       "ID                  0\n",
       "Source              0\n",
       "Distance            0\n",
       "dtype: int64"
      ]
     },
     "execution_count": 7,
     "metadata": {},
     "output_type": "execute_result"
    }
   ],
   "source": [
    "null_values"
   ]
  },
  {
   "cell_type": "code",
   "execution_count": 8,
   "id": "8af12ce0-1d80-4ba6-a18c-438fdcd0847d",
   "metadata": {
    "tags": []
   },
   "outputs": [],
   "source": [
    "# Checking the data type of each column\n",
    "data_types = combined_venues.dtypes"
   ]
  },
  {
   "cell_type": "code",
   "execution_count": 9,
   "id": "ddf686b9-d100-473c-a084-446d41ca9df5",
   "metadata": {
    "tags": []
   },
   "outputs": [
    {
     "data": {
      "text/plain": [
       "Venue Name           object\n",
       "Average Rating      float64\n",
       "Review Count          int64\n",
       "SkyTrain Station     object\n",
       "Latitude            float64\n",
       "Longitude           float64\n",
       "ID                   object\n",
       "Source               object\n",
       "Distance            float64\n",
       "dtype: object"
      ]
     },
     "execution_count": 9,
     "metadata": {},
     "output_type": "execute_result"
    }
   ],
   "source": [
    "data_types"
   ]
  },
  {
   "cell_type": "code",
   "execution_count": 20,
   "id": "b9d5818e-9afc-45ac-a138-7e7c54b60ff8",
   "metadata": {
    "tags": []
   },
   "outputs": [],
   "source": [
    "# Find duplicated values in the DataFrame\n",
    "cleaned_venues = combined_venues.drop_duplicates(subset = ['Venue Name', 'Latitude', 'Longitude'])"
   ]
  },
  {
   "cell_type": "code",
   "execution_count": 21,
   "id": "e7254679-5cce-49c5-bec8-73933e5cfa0f",
   "metadata": {
    "tags": []
   },
   "outputs": [
    {
     "data": {
      "text/html": [
       "<div>\n",
       "<style scoped>\n",
       "    .dataframe tbody tr th:only-of-type {\n",
       "        vertical-align: middle;\n",
       "    }\n",
       "\n",
       "    .dataframe tbody tr th {\n",
       "        vertical-align: top;\n",
       "    }\n",
       "\n",
       "    .dataframe thead th {\n",
       "        text-align: right;\n",
       "    }\n",
       "</style>\n",
       "<table border=\"1\" class=\"dataframe\">\n",
       "  <thead>\n",
       "    <tr style=\"text-align: right;\">\n",
       "      <th></th>\n",
       "      <th>Venue Name</th>\n",
       "      <th>Average Rating</th>\n",
       "      <th>Review Count</th>\n",
       "      <th>SkyTrain Station</th>\n",
       "      <th>Latitude</th>\n",
       "      <th>Longitude</th>\n",
       "      <th>ID</th>\n",
       "      <th>Source</th>\n",
       "      <th>Distance</th>\n",
       "    </tr>\n",
       "  </thead>\n",
       "  <tbody>\n",
       "    <tr>\n",
       "      <th>0</th>\n",
       "      <td>A&amp;W Canada</td>\n",
       "      <td>3.7</td>\n",
       "      <td>569</td>\n",
       "      <td>Main Street-Science World</td>\n",
       "      <td>49.273120</td>\n",
       "      <td>-123.100480</td>\n",
       "      <td>ChIJZ7GEH2RxhlQRVOFg4REEFN0</td>\n",
       "      <td>Google</td>\n",
       "      <td>11.062798</td>\n",
       "    </tr>\n",
       "    <tr>\n",
       "      <th>1</th>\n",
       "      <td>A&amp;W Canada</td>\n",
       "      <td>3.8</td>\n",
       "      <td>765</td>\n",
       "      <td>Commercial-Broadway Station</td>\n",
       "      <td>49.262566</td>\n",
       "      <td>-123.069420</td>\n",
       "      <td>ChIJvWqz0E5xhlQRmQ0QSFzd-OI</td>\n",
       "      <td>Google</td>\n",
       "      <td>14.740644</td>\n",
       "    </tr>\n",
       "    <tr>\n",
       "      <th>2</th>\n",
       "      <td>Tim Hortons</td>\n",
       "      <td>3.2</td>\n",
       "      <td>138</td>\n",
       "      <td>Main Street-Science World</td>\n",
       "      <td>49.273150</td>\n",
       "      <td>-123.100556</td>\n",
       "      <td>ChIJydBOH2RxhlQRNt7Hp4vijHE</td>\n",
       "      <td>Google</td>\n",
       "      <td>15.113673</td>\n",
       "    </tr>\n",
       "    <tr>\n",
       "      <th>3</th>\n",
       "      <td>St Regis Bar &amp; Grill</td>\n",
       "      <td>4.1</td>\n",
       "      <td>672</td>\n",
       "      <td>Granville</td>\n",
       "      <td>49.283169</td>\n",
       "      <td>-123.115932</td>\n",
       "      <td>ChIJAWJHy3hxhlQRxAZ-J4oMWJA</td>\n",
       "      <td>Google</td>\n",
       "      <td>20.001128</td>\n",
       "    </tr>\n",
       "    <tr>\n",
       "      <th>4</th>\n",
       "      <td>The Keg Steakhouse + Bar - Dunsmuir</td>\n",
       "      <td>4.4</td>\n",
       "      <td>2288</td>\n",
       "      <td>Granville</td>\n",
       "      <td>49.283445</td>\n",
       "      <td>-123.116359</td>\n",
       "      <td>ChIJGdCptHhxhlQR5OKcIP64od4</td>\n",
       "      <td>Google</td>\n",
       "      <td>23.592278</td>\n",
       "    </tr>\n",
       "    <tr>\n",
       "      <th>...</th>\n",
       "      <td>...</td>\n",
       "      <td>...</td>\n",
       "      <td>...</td>\n",
       "      <td>...</td>\n",
       "      <td>...</td>\n",
       "      <td>...</td>\n",
       "      <td>...</td>\n",
       "      <td>...</td>\n",
       "      <td>...</td>\n",
       "    </tr>\n",
       "    <tr>\n",
       "      <th>1391</th>\n",
       "      <td>Sushi Street</td>\n",
       "      <td>5.0</td>\n",
       "      <td>4</td>\n",
       "      <td>King George</td>\n",
       "      <td>49.190440</td>\n",
       "      <td>-122.850100</td>\n",
       "      <td>9XbqS8TN_GqMWjshzHev0A</td>\n",
       "      <td>Yelp</td>\n",
       "      <td>933.788753</td>\n",
       "    </tr>\n",
       "    <tr>\n",
       "      <th>1392</th>\n",
       "      <td>Church's Texas Chicken</td>\n",
       "      <td>2.5</td>\n",
       "      <td>3</td>\n",
       "      <td>Sea Island Centre</td>\n",
       "      <td>49.194544</td>\n",
       "      <td>-123.174736</td>\n",
       "      <td>E2ce43D0uCJ33rca3fTBZA</td>\n",
       "      <td>Yelp</td>\n",
       "      <td>1235.408371</td>\n",
       "    </tr>\n",
       "    <tr>\n",
       "      <th>1393</th>\n",
       "      <td>Bento Sushi</td>\n",
       "      <td>1.0</td>\n",
       "      <td>1</td>\n",
       "      <td>Marine Drive Station</td>\n",
       "      <td>49.210615</td>\n",
       "      <td>-123.099390</td>\n",
       "      <td>vVFZnByFBtWZcjtglVwnrQ</td>\n",
       "      <td>Yelp</td>\n",
       "      <td>1284.987479</td>\n",
       "    </tr>\n",
       "    <tr>\n",
       "      <th>1394</th>\n",
       "      <td>Finch &amp; Barley</td>\n",
       "      <td>4.0</td>\n",
       "      <td>60</td>\n",
       "      <td>Main Street-Science World</td>\n",
       "      <td>49.309920</td>\n",
       "      <td>-123.073460</td>\n",
       "      <td>R9R61_IpsCNJgRwpy_x7YA</td>\n",
       "      <td>Yelp</td>\n",
       "      <td>4527.694594</td>\n",
       "    </tr>\n",
       "    <tr>\n",
       "      <th>1395</th>\n",
       "      <td>Red Door</td>\n",
       "      <td>2.5</td>\n",
       "      <td>2</td>\n",
       "      <td>Main Street-Science World</td>\n",
       "      <td>49.325315</td>\n",
       "      <td>-123.142591</td>\n",
       "      <td>uF_xSsjb-9mbRhFznj5dDw</td>\n",
       "      <td>Yelp</td>\n",
       "      <td>6557.366515</td>\n",
       "    </tr>\n",
       "  </tbody>\n",
       "</table>\n",
       "<p>1393 rows × 9 columns</p>\n",
       "</div>"
      ],
      "text/plain": [
       "                               Venue Name  Average Rating  Review Count  \\\n",
       "0                              A&W Canada             3.7           569   \n",
       "1                              A&W Canada             3.8           765   \n",
       "2                             Tim Hortons             3.2           138   \n",
       "3                    St Regis Bar & Grill             4.1           672   \n",
       "4     The Keg Steakhouse + Bar - Dunsmuir             4.4          2288   \n",
       "...                                   ...             ...           ...   \n",
       "1391                         Sushi Street             5.0             4   \n",
       "1392               Church's Texas Chicken             2.5             3   \n",
       "1393                          Bento Sushi             1.0             1   \n",
       "1394                       Finch & Barley             4.0            60   \n",
       "1395                             Red Door             2.5             2   \n",
       "\n",
       "                 SkyTrain Station   Latitude   Longitude  \\\n",
       "0       Main Street-Science World  49.273120 -123.100480   \n",
       "1     Commercial-Broadway Station  49.262566 -123.069420   \n",
       "2       Main Street-Science World  49.273150 -123.100556   \n",
       "3                       Granville  49.283169 -123.115932   \n",
       "4                       Granville  49.283445 -123.116359   \n",
       "...                           ...        ...         ...   \n",
       "1391                  King George  49.190440 -122.850100   \n",
       "1392            Sea Island Centre  49.194544 -123.174736   \n",
       "1393         Marine Drive Station  49.210615 -123.099390   \n",
       "1394    Main Street-Science World  49.309920 -123.073460   \n",
       "1395    Main Street-Science World  49.325315 -123.142591   \n",
       "\n",
       "                               ID  Source     Distance  \n",
       "0     ChIJZ7GEH2RxhlQRVOFg4REEFN0  Google    11.062798  \n",
       "1     ChIJvWqz0E5xhlQRmQ0QSFzd-OI  Google    14.740644  \n",
       "2     ChIJydBOH2RxhlQRNt7Hp4vijHE  Google    15.113673  \n",
       "3     ChIJAWJHy3hxhlQRxAZ-J4oMWJA  Google    20.001128  \n",
       "4     ChIJGdCptHhxhlQR5OKcIP64od4  Google    23.592278  \n",
       "...                           ...     ...          ...  \n",
       "1391       9XbqS8TN_GqMWjshzHev0A    Yelp   933.788753  \n",
       "1392       E2ce43D0uCJ33rca3fTBZA    Yelp  1235.408371  \n",
       "1393       vVFZnByFBtWZcjtglVwnrQ    Yelp  1284.987479  \n",
       "1394       R9R61_IpsCNJgRwpy_x7YA    Yelp  4527.694594  \n",
       "1395       uF_xSsjb-9mbRhFznj5dDw    Yelp  6557.366515  \n",
       "\n",
       "[1393 rows x 9 columns]"
      ]
     },
     "execution_count": 21,
     "metadata": {},
     "output_type": "execute_result"
    }
   ],
   "source": [
    "cleaned_venues"
   ]
  },
  {
   "cell_type": "code",
   "execution_count": 22,
   "id": "37608ca7-79f8-4553-915c-901653f0effa",
   "metadata": {
    "tags": []
   },
   "outputs": [],
   "source": [
    "# find NaN value in DataFrame\n",
    "na_values = combined_venues.isna().sum()"
   ]
  },
  {
   "cell_type": "code",
   "execution_count": 23,
   "id": "5be7f4ad-8487-4c43-b243-26b51c842c89",
   "metadata": {
    "tags": []
   },
   "outputs": [
    {
     "data": {
      "text/plain": [
       "Venue Name          0\n",
       "Average Rating      0\n",
       "Review Count        0\n",
       "SkyTrain Station    0\n",
       "Latitude            0\n",
       "Longitude           0\n",
       "ID                  0\n",
       "Source              0\n",
       "Distance            0\n",
       "dtype: int64"
      ]
     },
     "execution_count": 23,
     "metadata": {},
     "output_type": "execute_result"
    }
   ],
   "source": [
    "na_values"
   ]
  },
  {
   "cell_type": "code",
   "execution_count": 24,
   "id": "02953a86-1495-41e1-b470-0c49eea61660",
   "metadata": {
    "tags": []
   },
   "outputs": [],
   "source": [
    "# Find unique values in DataFrame\n",
    "unique_values = combined_venues['Venue Name'].unique()"
   ]
  },
  {
   "cell_type": "code",
   "execution_count": 25,
   "id": "17b5d0c4-f94b-4e41-b35e-47dd22d50a89",
   "metadata": {
    "tags": []
   },
   "outputs": [
    {
     "data": {
      "text/plain": [
       "array(['A&W Canada', 'Tim Hortons', 'St Regis Bar & Grill', ...,\n",
       "       'Sushi Street', 'Finch & Barley', 'Red Door'], dtype=object)"
      ]
     },
     "execution_count": 25,
     "metadata": {},
     "output_type": "execute_result"
    }
   ],
   "source": [
    "unique_values"
   ]
  },
  {
   "cell_type": "code",
   "execution_count": 26,
   "id": "fca879be-412f-44bc-863c-59ac000e9bfa",
   "metadata": {
    "tags": []
   },
   "outputs": [],
   "source": [
    "#Export combined and cleaned data to .csv file\n",
    "cleaned_venues.to_csv('cleaned_venues.csv')"
   ]
  }
 ],
 "metadata": {
  "kernelspec": {
   "display_name": "Python 3 (ipykernel)",
   "language": "python",
   "name": "python3"
  },
  "language_info": {
   "codemirror_mode": {
    "name": "ipython",
    "version": 3
   },
   "file_extension": ".py",
   "mimetype": "text/x-python",
   "name": "python",
   "nbconvert_exporter": "python",
   "pygments_lexer": "ipython3",
   "version": "3.11.3"
  }
 },
 "nbformat": 4,
 "nbformat_minor": 5
}
